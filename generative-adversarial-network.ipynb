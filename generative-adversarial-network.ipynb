{
 "cells": [
  {
   "cell_type": "code",
   "execution_count": 2,
   "metadata": {
    "id": "x_xEmefUWErc"
   },
   "outputs": [],
   "source": [
    "import pandas as pd\n",
    "import numpy as np\n",
    "import matplotlib.pyplot as plt"
   ]
  },
  {
   "cell_type": "code",
   "execution_count": 3,
   "metadata": {
    "id": "tSXoGB8FWUCK"
   },
   "outputs": [],
   "source": [
    "from tensorflow.keras.datasets import mnist"
   ]
  },
  {
   "cell_type": "code",
   "execution_count": 4,
   "metadata": {
    "colab": {
     "base_uri": "https://localhost:8080/"
    },
    "id": "u8gQYwrTWbvl",
    "outputId": "5032c5bc-6189-4970-b2be-58c5019996e9"
   },
   "outputs": [
    {
     "name": "stdout",
     "output_type": "stream",
     "text": [
      "Downloading data from https://storage.googleapis.com/tensorflow/tf-keras-datasets/mnist.npz\n",
      "11493376/11490434 [==============================] - 0s 0us/step\n"
     ]
    }
   ],
   "source": [
    "(X_train, y_train), (X_test, y_test) = mnist.load_data()"
   ]
  },
  {
   "cell_type": "code",
   "execution_count": 6,
   "metadata": {
    "colab": {
     "base_uri": "https://localhost:8080/",
     "height": 282
    },
    "id": "Zbk1azA9WiSA",
    "outputId": "18c3987b-3384-49f8-ab51-dca28b3ac2b5"
   },
   "outputs": [
    {
     "data": {
      "text/plain": [
       "<matplotlib.image.AxesImage at 0x7f224a91dcc0>"
      ]
     },
     "execution_count": 6,
     "metadata": {
      "tags": []
     },
     "output_type": "execute_result"
    },
    {
     "data": {
      "image/png": "[encoded data removed]",
      "text/plain": [
       "<Figure size 432x288 with 1 Axes>"
      ]
     },
     "metadata": {
      "needs_background": "light",
      "tags": []
     },
     "output_type": "display_data"
    }
   ],
   "source": [
    "plt.imshow(X_train[0])"
   ]
  },
  {
   "cell_type": "code",
   "execution_count": 7,
   "metadata": {
    "colab": {
     "base_uri": "https://localhost:8080/"
    },
    "id": "rYEsTaNVWl6Q",
    "outputId": "4df3250a-c692-4d15-d2f4-fbd5a6ef9138"
   },
   "outputs": [
    {
     "data": {
      "text/plain": [
       "array([5, 0, 4, ..., 5, 6, 8], dtype=uint8)"
      ]
     },
     "execution_count": 7,
     "metadata": {
      "tags": []
     },
     "output_type": "execute_result"
    }
   ],
   "source": [
    "y_train"
   ]
  },
  {
   "cell_type": "code",
   "execution_count": 8,
   "metadata": {
    "id": "2Bwpt2HfWpY9"
   },
   "outputs": [],
   "source": [
    "only_zeros = X_train[y_train == 0]"
   ]
  },
  {
   "cell_type": "code",
   "execution_count": 9,
   "metadata": {
    "colab": {
     "base_uri": "https://localhost:8080/"
    },
    "id": "bF4AOHheWzuX",
    "outputId": "c34e0579-fd25-49d5-f37f-16fd3caeccbf"
   },
   "outputs": [
    {
     "data": {
      "text/plain": [
       "(5923, 28, 28)"
      ]
     },
     "execution_count": 9,
     "metadata": {
      "tags": []
     },
     "output_type": "execute_result"
    }
   ],
   "source": [
    "only_zeros.shape"
   ]
  },
  {
   "cell_type": "code",
   "execution_count": 10,
   "metadata": {
    "id": "DE9ppSJrXqI8"
   },
   "outputs": [],
   "source": [
    "import tensorflow as tf\n",
    "from tensorflow.keras.layers import Dense, Flatten, Reshape\n",
    "from tensorflow.keras.models import Sequential"
   ]
  },
  {
   "cell_type": "code",
   "execution_count": 34,
   "metadata": {
    "colab": {
     "base_uri": "https://localhost:8080/"
    },
    "id": "MbCZko3mW4TZ",
    "outputId": "7ceb41dc-46d6-4563-e5a6-bddfc2b079e7"
   },
   "outputs": [
    {
     "name": "stdout",
     "output_type": "stream",
     "text": [
      "Model: \"sequential_5\"\n",
      "_________________________________________________________________\n",
      "Layer (type)                 Output Shape              Param #   \n",
      "=================================================================\n",
      "flatten_1 (Flatten)          (None, 784)               0         \n",
      "_________________________________________________________________\n",
      "dense_7 (Dense)              (None, 150)               117750    \n",
      "_________________________________________________________________\n",
      "dense_8 (Dense)              (None, 100)               15100     \n",
      "_________________________________________________________________\n",
      "dense_9 (Dense)              (None, 1)                 101       \n",
      "=================================================================\n",
      "Total params: 132,951\n",
      "Trainable params: 132,951\n",
      "Non-trainable params: 0\n",
      "_________________________________________________________________\n"
     ]
    }
   ],
   "source": [
    "discriminator = Sequential()\n",
    "\n",
    "discriminator.add(Flatten(input_shape=[28,28]))\n",
    "discriminator.add(Dense(150, activation='relu'))\n",
    "discriminator.add(Dense(100, activation='relu'))\n",
    "\n",
    "discriminator.add(Dense(1, activation='sigmoid'))\n",
    "\n",
    "discriminator.compile(loss='binary_crossentropy', optimizer='adam')\n",
    "\n",
    "discriminator.summary()"
   ]
  },
  {
   "cell_type": "code",
   "execution_count": 35,
   "metadata": {
    "id": "MG7YeQ2zYalT"
   },
   "outputs": [],
   "source": [
    "coding_size = 100\n",
    "generator = Sequential()\n",
    "\n",
    "generator.add(Dense(100, activation='relu', input_shape=[coding_size]))\n",
    "generator.add(Dense(150, activation='relu'))\n",
    "generator.add(Dense(784, activation='relu'))\n",
    "generator.add(Reshape([28,28]))"
   ]
  },
  {
   "cell_type": "code",
   "execution_count": 36,
   "metadata": {
    "id": "CuEG4azhZc0Y"
   },
   "outputs": [],
   "source": [
    "GAN = Sequential([generator, discriminator])"
   ]
  },
  {
   "cell_type": "code",
   "execution_count": 37,
   "metadata": {
    "id": "y3o1RCkBZjvw"
   },
   "outputs": [],
   "source": [
    "discriminator.trainable = False"
   ]
  },
  {
   "cell_type": "code",
   "execution_count": 38,
   "metadata": {
    "id": "dNkODZHTZuyF"
   },
   "outputs": [],
   "source": [
    "GAN.compile(loss='binary_crossentropy', optimizer='adam')"
   ]
  },
  {
   "cell_type": "code",
   "execution_count": 39,
   "metadata": {
    "id": "mUTKXgwjZ1pE"
   },
   "outputs": [],
   "source": [
    "batch_size = 32"
   ]
  },
  {
   "cell_type": "code",
   "execution_count": 40,
   "metadata": {
    "id": "ZDhKvQYDae_M"
   },
   "outputs": [],
   "source": [
    "my_data = only_zeros"
   ]
  },
  {
   "cell_type": "code",
   "execution_count": 41,
   "metadata": {
    "id": "aW_031JLalok"
   },
   "outputs": [],
   "source": [
    "dataset = tf.data.Dataset.from_tensor_slices(my_data).shuffle(buffer_size=1000)"
   ]
  },
  {
   "cell_type": "code",
   "execution_count": 42,
   "metadata": {
    "id": "0yH20Zb5awkX"
   },
   "outputs": [],
   "source": [
    "dataset = dataset.batch(batch_size, drop_remainder=True).prefetch(1)"
   ]
  },
  {
   "cell_type": "code",
   "execution_count": 43,
   "metadata": {
    "id": "zff_sDbFbHfw"
   },
   "outputs": [],
   "source": [
    "epochs = 10"
   ]
  },
  {
   "cell_type": "code",
   "execution_count": 44,
   "metadata": {
    "colab": {
     "base_uri": "https://localhost:8080/"
    },
    "id": "nLRW4tcabJDK",
    "outputId": "bfca1570-b0b6-443f-ff71-8825322ddee5"
   },
   "outputs": [
    {
     "name": "stdout",
     "output_type": "stream",
     "text": [
      "Currently on epoch 1\n",
      "\tCurrently on batch number 100 of (185)\n",
      "Currently on epoch 2\n",
      "\tCurrently on batch number 100 of (185)\n",
      "Currently on epoch 3\n",
      "\tCurrently on batch number 100 of (185)\n",
      "Currently on epoch 4\n",
      "\tCurrently on batch number 100 of (185)\n",
      "Currently on epoch 5\n",
      "\tCurrently on batch number 100 of (185)\n",
      "Currently on epoch 6\n",
      "\tCurrently on batch number 100 of (185)\n",
      "Currently on epoch 7\n",
      "\tCurrently on batch number 100 of (185)\n",
      "Currently on epoch 8\n",
      "\tCurrently on batch number 100 of (185)\n",
      "Currently on epoch 9\n",
      "\tCurrently on batch number 100 of (185)\n",
      "Currently on epoch 10\n",
      "\tCurrently on batch number 100 of (185)\n"
     ]
    }
   ],
   "source": [
    "generator, discriminator = GAN.layers\n",
    "\n",
    "for epoch in range(epochs):\n",
    "  print(f\"Currently on epoch {epoch + 1}\")\n",
    "  i = 0\n",
    "\n",
    "  for X_batch in dataset:\n",
    "    i = i + 1\n",
    "\n",
    "    if i%100 == 0:\n",
    "      print(f\"\\tCurrently on batch number {i} of ({ len(my_data)// batch_size })\")\n",
    "    \n",
    "    # Discriminator training phase\n",
    "    noise = tf.random.normal(shape=[batch_size, coding_size])\n",
    "    gen_images = generator(noise)\n",
    "\n",
    "    X_fake_vs_real = tf.concat([gen_images, tf.dtypes.cast(X_batch, tf.float32)], axis=0)\n",
    "    y1 = tf.constant([[0.0]] * batch_size + [[1.0]] * batch_size)\n",
    "\n",
    "    discriminator.trainable = True\n",
    "    discriminator.train_on_batch(X_fake_vs_real, y1)\n",
    "\n",
    "    # Train generator\n",
    "    noise = tf.random.normal(shape=[batch_size, coding_size])\n",
    "    y2 = tf.constant([[1.0]] * batch_size)\n",
    "    discriminator.trainable = False\n",
    "\n",
    "    GAN.train_on_batch(noise, y2)"
   ]
  },
  {
   "cell_type": "code",
   "execution_count": 45,
   "metadata": {
    "colab": {
     "base_uri": "https://localhost:8080/",
     "height": 101
    },
    "id": "YYMR_tx1ep6O",
    "outputId": "f6a37d63-8679-4d17-de66-d2f8a938452b"
   },
   "outputs": [
    {
     "data": {
      "text/plain": [
       "<matplotlib.image.AxesImage at 0x7f21dd5309e8>"
      ]
     },
     "execution_count": 45,
     "metadata": {
      "tags": []
     },
     "output_type": "execute_result"
    },
    {
     "data": {
      "image/png": "[encoded data removed]",
      "text/plain": [
       "<Figure size 432x288 with 1 Axes>"
      ]
     },
     "metadata": {
      "needs_background": "light",
      "tags": []
     },
     "output_type": "display_data"
    }
   ],
   "source": [
    "noise = tf.random.normal(shape=[10, coding_size])\n",
    "\n",
    "plt.imshow(noise)"
   ]
  },
  {
   "cell_type": "code",
   "execution_count": 46,
   "metadata": {
    "id": "IRhzDwJve7D5"
   },
   "outputs": [],
   "source": [
    "images = generator(noise)"
   ]
  },
  {
   "cell_type": "code",
   "execution_count": 47,
   "metadata": {
    "colab": {
     "base_uri": "https://localhost:8080/"
    },
    "id": "tn24dJBqfEwm",
    "outputId": "de14cc61-0aa6-41d1-c2bc-3b9c5cb8c692"
   },
   "outputs": [
    {
     "data": {
      "text/plain": [
       "TensorShape([10, 28, 28])"
      ]
     },
     "execution_count": 47,
     "metadata": {
      "tags": []
     },
     "output_type": "execute_result"
    }
   ],
   "source": [
    "images.shape"
   ]
  },
  {
   "cell_type": "code",
   "execution_count": 51,
   "metadata": {
    "colab": {
     "base_uri": "https://localhost:8080/",
     "height": 265
    },
    "id": "jPlruI5bfGLm",
    "outputId": "b6d98ae7-1353-4782-99ea-4e6d689eb873"
   },
   "outputs": [
    {
     "data": {
      "image/png": "[encoded data removed]",
      "text/plain": [
       "<Figure size 432x288 with 1 Axes>"
      ]
     },
     "metadata": {
      "needs_background": "light",
      "tags": []
     },
     "output_type": "display_data"
    }
   ],
   "source": [
    "plt.imshow(images[4]);"
   ]
  },
  {
   "cell_type": "code",
   "execution_count": null,
   "metadata": {
    "id": "tnmP1CvffIi6"
   },
   "outputs": [],
   "source": []
  }
 ],
 "metadata": {
  "accelerator": "GPU",
  "colab": {
   "collapsed_sections": [],
   "name": "generative_adversarial_networks.ipynb",
   "provenance": []
  },
  "kernelspec": {
   "display_name": "Python 3",
   "language": "python",
   "name": "python3"
  },
  "language_info": {
   "codemirror_mode": {
    "name": "ipython",
    "version": 3
   },
   "file_extension": ".py",
   "mimetype": "text/x-python",
   "name": "python",
   "nbconvert_exporter": "python",
   "pygments_lexer": "ipython3",
   "version": "3.7.9"
  }
 },
 "nbformat": 4,
 "nbformat_minor": 1
}
